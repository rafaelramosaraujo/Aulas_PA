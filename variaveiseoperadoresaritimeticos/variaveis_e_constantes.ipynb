{
  "nbformat": 4,
  "nbformat_minor": 0,
  "metadata": {
    "colab": {
      "provenance": [],
      "authorship_tag": "ABX9TyO8RxbyP5YzIwl0svPYG+y8",
      "include_colab_link": true
    },
    "kernelspec": {
      "name": "python3",
      "display_name": "Python 3"
    },
    "language_info": {
      "name": "python"
    }
  },
  "cells": [
    {
      "cell_type": "markdown",
      "metadata": {
        "id": "view-in-github",
        "colab_type": "text"
      },
      "source": [
        "<a href=\"https://colab.research.google.com/github/rafaelramosaraujo/Aulas_PA/blob/main/variaveiseoperadoresaritimeticos/variaveis_e_constantes.ipynb\" target=\"_parent\"><img src=\"https://colab.research.google.com/assets/colab-badge.svg\" alt=\"Open In Colab\"/></a>"
      ]
    },
    {
      "cell_type": "code",
      "execution_count": null,
      "metadata": {
        "id": "mnaK8Wp2RZ8-"
      },
      "outputs": [],
      "source": []
    },
    {
      "cell_type": "code",
      "source": [
        "nome =\"Rafael Ramos\"\n",
        "idade = 16\n",
        "altura = 1.75\n",
        "resp = True\n",
        "animais = [\"mavis\" , \"marie\" , \"ursinho\" , \"joao\" , \"amora\" , \"pintadinha\" , \"fiona\"]\n",
        "comidafav = (\"macarrão\" , \"lasanha\" , \"frango assado\" , \"pizza\")\n",
        "animaisdicio = {\"cachorros\":[\"joao\" , \"amora\"], \"gatos\":[\"mavis\" , \"marie\" , \"ursinho\" , \"pintadinha\"], \"calopsita\":[\"fiona\"]}"
      ],
      "metadata": {
        "id": "Z_laRe8FRflU"
      },
      "execution_count": null,
      "outputs": []
    },
    {
      "cell_type": "code",
      "source": [
        "print(type(nome))\n",
        "print(type(idade))\n",
        "print(type(altura))\n",
        "print(type(resp))\n",
        "print(type(animais))\n",
        "print(type(comidafav))\n",
        "print(type(animaisdicio))"
      ],
      "metadata": {
        "colab": {
          "base_uri": "https://localhost:8080/"
        },
        "id": "73XvSYBvXFzd",
        "outputId": "2847b261-3312-4cc3-f9ff-8d8a95d041bb"
      },
      "execution_count": null,
      "outputs": [
        {
          "output_type": "stream",
          "name": "stdout",
          "text": [
            "<class 'str'>\n",
            "<class 'int'>\n",
            "<class 'float'>\n",
            "<class 'bool'>\n",
            "<class 'list'>\n",
            "<class 'tuple'>\n",
            "<class 'dict'>\n"
          ]
        }
      ]
    },
    {
      "cell_type": "code",
      "source": [
        "print(\"meu nome é\",nome )\n",
        "print(f\"minha idade é {idade}\")\n",
        "print(f\"minha altura é {altura}\")\n",
        "print(f\"minha resposta é {resp}\")\n",
        "print(f\"meus animais são {animais}\")\n",
        "print(f\"minhas comidas favoritas são {comidafav}\")\n",
        "print(f\"meus animais são {animaisdicio}\")"
      ],
      "metadata": {
        "colab": {
          "base_uri": "https://localhost:8080/"
        },
        "id": "-IB0LLQkaz8R",
        "outputId": "e0d09b6a-75c5-4f84-bc39-540614d34f8a"
      },
      "execution_count": null,
      "outputs": [
        {
          "output_type": "stream",
          "name": "stdout",
          "text": [
            "meu nome é Rafael Ramos\n",
            "minha idade é 16\n",
            "minha altura é 1.75\n",
            "minha resposta é True\n",
            "meus animais são ['mavis', 'marie', 'ursinho', 'joao', 'amora', 'pintadinha', 'fiona']\n",
            "minhas comidas favoritas são ('macarrão', 'lasanha', 'frango assado', 'pizza')\n",
            "meus animais são {'cachorros': ['joao', 'amora'], 'gatos': ['mavis', 'marie', 'ursinho', 'pintadinha'], 'calopsita': ['fiona']}\n"
          ]
        }
      ]
    },
    {
      "cell_type": "markdown",
      "source": [
        "#Constantes\n"
      ],
      "metadata": {
        "id": "K5kIHYFVeseB"
      }
    },
    {
      "cell_type": "markdown",
      "source": [
        "## Calcule a área do circulo\n"
      ],
      "metadata": {
        "id": "CrJ3luI_eyRo"
      }
    },
    {
      "cell_type": "code",
      "source": [
        "#entrada\n",
        "raio = float(input(\"digite o valor do raio: \"))"
      ],
      "metadata": {
        "colab": {
          "base_uri": "https://localhost:8080/"
        },
        "id": "hFPHiYP-e1Cp",
        "outputId": "1939161f-7cc7-407f-8695-90073f3e62aa"
      },
      "execution_count": null,
      "outputs": [
        {
          "name": "stdout",
          "output_type": "stream",
          "text": [
            "digite o valor do raio: 16\n"
          ]
        }
      ]
    },
    {
      "cell_type": "code",
      "source": [
        "#processamento\n",
        "areacirculo = 3.14159 * (raio**2)"
      ],
      "metadata": {
        "id": "FZ1O6_68gkSi"
      },
      "execution_count": null,
      "outputs": []
    },
    {
      "cell_type": "code",
      "source": [
        "#saida\n",
        "print(f\"a area do circulo é {areacirculo:.2f}\")"
      ],
      "metadata": {
        "colab": {
          "base_uri": "https://localhost:8080/"
        },
        "id": "8xtyyA6hg58P",
        "outputId": "fcb3d1e7-435c-4474-901d-fc1bbc7f83ba"
      },
      "execution_count": null,
      "outputs": [
        {
          "output_type": "stream",
          "name": "stdout",
          "text": [
            "a area do circulo é 804.25\n"
          ]
        }
      ]
    },
    {
      "cell_type": "markdown",
      "source": [
        "##Calcule a área do quadrado"
      ],
      "metadata": {
        "id": "ezKP_xYyp4qd"
      }
    },
    {
      "cell_type": "code",
      "source": [
        "#entrada\n",
        "lado = float(input(\"digite o valor do lado: \"))\n",
        "altura = float(input(\"digite o valor da altura: \"))"
      ],
      "metadata": {
        "colab": {
          "base_uri": "https://localhost:8080/"
        },
        "id": "HeSfPHAPqCkg",
        "outputId": "d783fd82-e956-4fe7-bf7c-673585643849"
      },
      "execution_count": null,
      "outputs": [
        {
          "name": "stdout",
          "output_type": "stream",
          "text": [
            "digite o valor do lado: 2\n",
            "digite o valor da altura: 2\n"
          ]
        }
      ]
    },
    {
      "cell_type": "code",
      "source": [
        "#processamento\n",
        "areaquadrado = lado * altura"
      ],
      "metadata": {
        "id": "7VZ9ayZeqQ8w"
      },
      "execution_count": null,
      "outputs": []
    },
    {
      "cell_type": "code",
      "source": [
        "#saida\n",
        "print(f\"a area do quadrado é {areaquadrado:.2f}\")"
      ],
      "metadata": {
        "colab": {
          "base_uri": "https://localhost:8080/"
        },
        "id": "t2zEHx27qXfV",
        "outputId": "f7d2e498-dee3-4092-9898-aab70f44a248"
      },
      "execution_count": null,
      "outputs": [
        {
          "output_type": "stream",
          "name": "stdout",
          "text": [
            "a area do quadrado é 4.00\n"
          ]
        }
      ]
    },
    {
      "cell_type": "markdown",
      "source": [
        "##Área do retangulo\n"
      ],
      "metadata": {
        "id": "OAPMnswmlSJ9"
      }
    },
    {
      "cell_type": "code",
      "source": [
        "#entrada\n",
        "base = float(input(\"digite o valor da base: \"))\n",
        "altura = float(input(\"digite o valor da altura: \"))\n"
      ],
      "metadata": {
        "colab": {
          "base_uri": "https://localhost:8080/"
        },
        "id": "DvUHcQWdlbjF",
        "outputId": "790eabdf-170f-4e12-9f56-1961b9f4febf"
      },
      "execution_count": null,
      "outputs": [
        {
          "name": "stdout",
          "output_type": "stream",
          "text": [
            "digite o valor da base: 2\n",
            "digite o valor da altura: 2\n"
          ]
        }
      ]
    },
    {
      "cell_type": "code",
      "source": [
        "#processamento\n",
        "areaRetangulo = base * altura\n"
      ],
      "metadata": {
        "id": "0M_ITNAPnjtL"
      },
      "execution_count": null,
      "outputs": []
    },
    {
      "cell_type": "code",
      "source": [
        "#saida\n",
        "print(f\"a area do retangulo é {areaRetangulo:.2f}\")"
      ],
      "metadata": {
        "colab": {
          "base_uri": "https://localhost:8080/"
        },
        "id": "OZ0T4to3oj1E",
        "outputId": "b25dd3ee-497b-446e-bc2f-191fd7aa49f7"
      },
      "execution_count": null,
      "outputs": [
        {
          "output_type": "stream",
          "name": "stdout",
          "text": [
            "a area do retangulo é 4.00\n"
          ]
        }
      ]
    },
    {
      "cell_type": "markdown",
      "source": [
        "##Perimetro do circulo\n"
      ],
      "metadata": {
        "id": "Jf98jbhOpHG-"
      }
    },
    {
      "cell_type": "code",
      "source": [
        "#entrada\n",
        "pi = 3.14159\n",
        "raio = float(input(\"digite o valor do raio: \"))"
      ],
      "metadata": {
        "colab": {
          "base_uri": "https://localhost:8080/"
        },
        "id": "fxX4Nx_XpLoL",
        "outputId": "8c2602ec-709f-4138-b2bd-8f09c4e90c71"
      },
      "execution_count": null,
      "outputs": [
        {
          "name": "stdout",
          "output_type": "stream",
          "text": [
            "digite o valor do raio: 10\n"
          ]
        }
      ]
    },
    {
      "cell_type": "code",
      "source": [
        "#processamento\n",
        "perimetroCirculo = 2 * pi * raio"
      ],
      "metadata": {
        "id": "PT-KHZSirVCf"
      },
      "execution_count": null,
      "outputs": []
    },
    {
      "cell_type": "code",
      "source": [
        "#saida\n",
        "print(f\"o perimetro do circulo é {perimetroCirculo:.2f}\")"
      ],
      "metadata": {
        "colab": {
          "base_uri": "https://localhost:8080/"
        },
        "id": "BGLrAqoDruwn",
        "outputId": "65562014-877d-467a-82d0-b318302173a9"
      },
      "execution_count": null,
      "outputs": [
        {
          "output_type": "stream",
          "name": "stdout",
          "text": [
            "o perimetro do circulo é 62.83\n"
          ]
        }
      ]
    },
    {
      "cell_type": "markdown",
      "source": [
        "##Conversão de Temperatura"
      ],
      "metadata": {
        "id": "yhCcJt4asO_h"
      }
    },
    {
      "cell_type": "code",
      "source": [
        "#entrada\n",
        "\n",
        "fahrenhait = float(input(\"digite a temperatura em fahrenhait: \"))"
      ],
      "metadata": {
        "colab": {
          "base_uri": "https://localhost:8080/"
        },
        "id": "paUD8wwWsohw",
        "outputId": "d99752f1-756e-47a0-dd44-eace61de762f"
      },
      "execution_count": null,
      "outputs": [
        {
          "name": "stdout",
          "output_type": "stream",
          "text": [
            "digite a temperatura em fahrenhait: 80\n"
          ]
        }
      ]
    },
    {
      "cell_type": "code",
      "source": [
        "celcius = (fahrenhait - 32) * 5 / 9"
      ],
      "metadata": {
        "id": "QEYAe25itoE7"
      },
      "execution_count": null,
      "outputs": []
    },
    {
      "cell_type": "code",
      "source": [
        "print(f\"a temperatura em celcius é {celcius:.2f}\")"
      ],
      "metadata": {
        "colab": {
          "base_uri": "https://localhost:8080/"
        },
        "id": "xDDj5xGcWPxs",
        "outputId": "b023a796-b8d1-4032-d109-adbcb8e6c137"
      },
      "execution_count": null,
      "outputs": [
        {
          "output_type": "stream",
          "name": "stdout",
          "text": [
            "a temperatura em celcius é 26.67\n"
          ]
        }
      ]
    }
  ]
}