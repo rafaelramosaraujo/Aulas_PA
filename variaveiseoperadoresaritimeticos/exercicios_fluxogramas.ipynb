{
  "nbformat": 4,
  "nbformat_minor": 0,
  "metadata": {
    "colab": {
      "provenance": [],
      "authorship_tag": "ABX9TyNRfx1HUHuSb7Vi+CsZxsew",
      "include_colab_link": true
    },
    "kernelspec": {
      "name": "python3",
      "display_name": "Python 3"
    },
    "language_info": {
      "name": "python"
    }
  },
  "cells": [
    {
      "cell_type": "markdown",
      "metadata": {
        "id": "view-in-github",
        "colab_type": "text"
      },
      "source": [
        "<a href=\"https://colab.research.google.com/github/rafaelramosaraujo/Aulas_PA/blob/main/variaveiseoperadoresaritimeticos/exercicios_fluxogramas.ipynb\" target=\"_parent\"><img src=\"https://colab.research.google.com/assets/colab-badge.svg\" alt=\"Open In Colab\"/></a>"
      ]
    },
    {
      "cell_type": "markdown",
      "source": [
        "#exercicios"
      ],
      "metadata": {
        "id": "MS7dW6St7eRE"
      }
    },
    {
      "cell_type": "markdown",
      "source": [
        "##exercicio 1"
      ],
      "metadata": {
        "id": "kMjlQ3rf7jsq"
      }
    },
    {
      "cell_type": "code",
      "source": [
        "valorc = float(input(\"Qual o valor do carro? \"))\n",
        "\n",
        "imposto = (valorc*45/100)+valorc\n",
        "dist = (imposto*28/100)+imposto\n",
        "\n",
        "print(f\"O valor total do carro fica: {dist}\")"
      ],
      "metadata": {
        "colab": {
          "base_uri": "https://localhost:8080/"
        },
        "id": "ExplV_S07nC7",
        "outputId": "ec106bac-5ff2-433b-aaa0-94e2a3ba18c7"
      },
      "execution_count": 5,
      "outputs": [
        {
          "output_type": "stream",
          "name": "stdout",
          "text": [
            "Qual o valor do carro? 25000\n",
            "O valor total do carro fica: 46400.0\n"
          ]
        }
      ]
    },
    {
      "cell_type": "markdown",
      "source": [
        "##exercicio 2"
      ],
      "metadata": {
        "id": "QXFbaHtN8Q3F"
      }
    },
    {
      "cell_type": "code",
      "source": [
        "hora = float(input(\"Quantas horas são? \" ))\n",
        "minutos = float(input(\"Quantos minutos são? \"))\n",
        "\n",
        "minuto_dec = minutos/60\n",
        "segundo = hora + minuto_dec\n",
        "\n",
        "print(f\"O tempo em segundo fica: {segundo}\")\n",
        ""
      ],
      "metadata": {
        "colab": {
          "base_uri": "https://localhost:8080/"
        },
        "id": "DnpQ0IJH8TgM",
        "outputId": "c081c13c-f1f0-4456-8a04-4a34247d4426"
      },
      "execution_count": 2,
      "outputs": [
        {
          "output_type": "stream",
          "name": "stdout",
          "text": [
            "Quantas horas são? 12\n",
            "Quantos minutos são? 30\n",
            "O tempo em segundo fica: 12.5\n"
          ]
        }
      ]
    },
    {
      "cell_type": "markdown",
      "source": [
        "##exercicio 3"
      ],
      "metadata": {
        "id": "qD6ZQ3Dx825n"
      }
    },
    {
      "cell_type": "code",
      "source": [
        "hora = float(input(\"Quantas horas de trabalho: \"))\n",
        "minuto = float(input(\"E mais quantos minutos: \"))\n",
        "valorhor = float(input(\"Valor pago por hora: \"))\n",
        "\n",
        "horas_dec = hora + (minuto/60)\n",
        "valornormal = horas_dec * valorhor\n",
        "valortotal = valornormal*70/100\n",
        "\n",
        "print(f\" o valor normal é de: {valornormal}\")\n",
        "print(f\"O valor pago em horas extra é: {valortotal}\")"
      ],
      "metadata": {
        "colab": {
          "base_uri": "https://localhost:8080/"
        },
        "id": "_T5Dx3f186M-",
        "outputId": "1a490c26-8c85-4146-fe13-9b4d606e640b"
      },
      "execution_count": 4,
      "outputs": [
        {
          "output_type": "stream",
          "name": "stdout",
          "text": [
            "Quantas horas de trabalho: 15\n",
            "E mais quantos minutos: 45\n",
            "Valor pago por hora: 25\n",
            " o valor normal é de: 393.75\n",
            "O valor pago em horas extra é: 275.625\n"
          ]
        }
      ]
    }
  ]
}