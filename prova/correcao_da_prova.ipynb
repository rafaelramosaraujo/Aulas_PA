{
  "nbformat": 4,
  "nbformat_minor": 0,
  "metadata": {
    "colab": {
      "provenance": [],
      "authorship_tag": "ABX9TyP5g+UbnS082MvwTSigo+OY",
      "include_colab_link": true
    },
    "kernelspec": {
      "name": "python3",
      "display_name": "Python 3"
    },
    "language_info": {
      "name": "python"
    }
  },
  "cells": [
    {
      "cell_type": "markdown",
      "metadata": {
        "id": "view-in-github",
        "colab_type": "text"
      },
      "source": [
        "<a href=\"https://colab.research.google.com/github/rafaelramosaraujo/Aulas_PA/blob/main/prova/correcao_da_prova.ipynb\" target=\"_parent\"><img src=\"https://colab.research.google.com/assets/colab-badge.svg\" alt=\"Open In Colab\"/></a>"
      ]
    },
    {
      "cell_type": "code",
      "execution_count": 5,
      "metadata": {
        "colab": {
          "base_uri": "https://localhost:8080/"
        },
        "id": "wScDv_USDhLD",
        "outputId": "0488e76c-e14e-4cd9-bcb6-152062041c14"
      },
      "outputs": [
        {
          "output_type": "stream",
          "name": "stdout",
          "text": [
            "digite o dia do mes: 1\n",
            "lua nova\n"
          ]
        }
      ],
      "source": [
        "dia = int(input('digite o dia do mes: '))\n",
        "\n",
        "if dia >= 1 and dia <= 31:\n",
        "  if dia >= 1 and dia <= 7:\n",
        "    print('lua nova')\n",
        "  elif dia > 7 and dia <= 14:\n",
        "    print('lua quarto crescente')\n",
        "  elif dia > 14 and dia <= 21:\n",
        "    print('lua cheia')\n",
        "  elif dia > 21 and dia <= 29:\n",
        "    print('lua quarto minguante')\n",
        "  else:\n",
        "    print('Início de novo ciclo lunar')\n",
        "else:\n",
        "  print('dia invalido')"
      ]
    },
    {
      "cell_type": "code",
      "source": [
        "energia = int(input('digite a sua energia: '))\n",
        "if energia >=1 and energia <=100:\n",
        "  classe = int(input('escolha a sua classe: \\n1 mago\\n2 guerreiro\\n3 arqueiro: '))\n",
        "  if classe == 1:\n",
        "    print('mago')\n",
        "    dano = energia*1.5\n",
        "    if energia >= 60:\n",
        "      print('voce entrou na batalha!\\ndano: ',dano)\n",
        "    else:\n",
        "      print('sem energia suficiente pra entrar na batalha')\n",
        "  elif classe == 2:\n",
        "    print('guerreiro')\n",
        "    dano = energia*2\n",
        "    if energia >= 40:\n",
        "      print('voce entrou na batalha!\\ndano: ',dano)\n",
        "    else:\n",
        "      print('sem energia suficiente pra entrar na batalha')\n",
        "  elif classe == 3:\n",
        "    print('arqueiro')\n",
        "    dano = energia*1.2\n",
        "    if energia >= 50:\n",
        "      print('voce entrou na batalha!\\ndano: ',dano)\n",
        "    else:\n",
        "      print('sem energia suficiente pra entrar na batalha')\n",
        "  else:\n",
        "    print('classe inexistente, escolha uma das 3 classes!')\n",
        "else:\n",
        "  print('energia invalida!')"
      ],
      "metadata": {
        "colab": {
          "base_uri": "https://localhost:8080/"
        },
        "id": "z_8D2UrUFVe3",
        "outputId": "549b619f-a06d-4d16-b5b9-e8a16300cefa"
      },
      "execution_count": 22,
      "outputs": [
        {
          "output_type": "stream",
          "name": "stdout",
          "text": [
            "digite a sua energia: 80\n",
            "escolha a sua classe: \n",
            "1 mago\n",
            "2 guerreiro\n",
            "3 arqueiro: 2\n",
            "guerreiro\n",
            "voce entrou na batalha!\n",
            "dano:  160\n"
          ]
        }
      ]
    },
    {
      "cell_type": "code",
      "source": [
        "renda_m = int(input('digite a sua renda familiar mensal: '))\n",
        "if renda_m > 0 and renda_m <= 5000:\n",
        "  escola = int(input('escolha a sua escola:\\n1 publica\\n2 particular: '))\n",
        "  if escola == 1:\n",
        "    print('publica')\n",
        "  elif escola == 2:\n",
        "    print('particular')\n",
        "    nota_m = float(input('digite sua nota de matematica: '))\n",
        "    if nota_m > 0 and nota_m <= 10:\n",
        "      nota_p = float(input('digite sua nota de portugues: '))\n",
        "      if nota_p > 0 and nota_p <= 10:\n",
        "        nota_c = float(input('digite sua nota de conhecimentos gerais: '))\n",
        "        if nota_c > 0 and nota_c <= 10:\n",
        "          print('blz')\n",
        "        else:\n",
        "          print('nota de conhecimentos gerais invalida')\n",
        "      else:\n",
        "        print('nota de portugues invalida')\n",
        "    else:\n",
        "      print('nota de matematica invalida')\n",
        "\n",
        "  else:\n",
        "    print('escola invalida')\n",
        "\n",
        "elif renda_m <= 0:\n",
        "  print('renda invalida')\n",
        "\n",
        "else:\n",
        "  print('Não participa da bolsa. Só participam candidatos com renda menor ou igual a R$ 5.000.')\n"
      ],
      "metadata": {
        "colab": {
          "base_uri": "https://localhost:8080/"
        },
        "id": "tzLCbeTrM_cB",
        "outputId": "5e2c4016-0709-4bf1-f707-89abf4d4e6aa"
      },
      "execution_count": 52,
      "outputs": [
        {
          "output_type": "stream",
          "name": "stdout",
          "text": [
            "digite a sua renda familiar mensal: 7\n",
            "escolha a sua escola:\n",
            "1 publica\n",
            "2 particular: 2\n",
            "particular\n",
            "digite sua nota de matematica: 1\n",
            "digite sua nota de portugues: 1\n",
            "digite sua nota de conhecimentos gerais: 0\n",
            "nota de conhecimentos gerais invalida\n"
          ]
        }
      ]
    }
  ]
}