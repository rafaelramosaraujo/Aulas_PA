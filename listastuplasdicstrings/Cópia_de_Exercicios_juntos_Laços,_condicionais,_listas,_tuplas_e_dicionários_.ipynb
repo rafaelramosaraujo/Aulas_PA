{
  "nbformat": 4,
  "nbformat_minor": 0,
  "metadata": {
    "colab": {
      "provenance": [],
      "include_colab_link": true
    },
    "kernelspec": {
      "name": "python3",
      "display_name": "Python 3"
    },
    "language_info": {
      "name": "python"
    }
  },
  "cells": [
    {
      "cell_type": "markdown",
      "metadata": {
        "id": "view-in-github",
        "colab_type": "text"
      },
      "source": [
        "<a href=\"https://colab.research.google.com/github/rafaelramosaraujo/Aulas_PA/blob/main/listastuplasdicstrings/C%C3%B3pia_de_Exercicios_juntos_La%C3%A7os%2C_condicionais%2C_listas%2C_tuplas_e_dicion%C3%A1rios_.ipynb\" target=\"_parent\"><img src=\"https://colab.research.google.com/assets/colab-badge.svg\" alt=\"Open In Colab\"/></a>"
      ]
    },
    {
      "cell_type": "markdown",
      "source": [
        "Lista de Exercícios unindo tudo que foi ensinado até o momento:\n",
        "\n",
        "\n",
        "*   Condicionais\n",
        "*   Laços de Reptição\n",
        "*   Listas\n",
        "*   Tuplas\n",
        "*   Dicionários\n",
        "*   Manipulação de Strings\n",
        "\n",
        "\n",
        "\n",
        "\n",
        "\n"
      ],
      "metadata": {
        "id": "JsFcwNObBRcd"
      }
    },
    {
      "cell_type": "markdown",
      "source": [
        "# Tuplas - Acesso e Desempacotamento\n",
        "\n",
        "1) Crie uma tupla contendo três tipos diferentes de dados: um número, uma string e uma lista. Use um laço de repetição para acessar e imprimir cada item da tupla. Além disso, dentro do laço, acesse e imprima o segundo item da lista que está dentro da tupla."
      ],
      "metadata": {
        "id": "HM91bKpkBqGI"
      }
    },
    {
      "cell_type": "code",
      "source": [
        "dados = (24, \"Cíntia\",[1,2,3])\n",
        "\n",
        "for i in dados:\n",
        "  print(i)"
      ],
      "metadata": {
        "colab": {
          "base_uri": "https://localhost:8080/"
        },
        "id": "sCbCOqPVYeRv",
        "outputId": "c41d3ab7-d390-4ca2-96c8-6c26112d9b91"
      },
      "execution_count": null,
      "outputs": [
        {
          "output_type": "stream",
          "name": "stdout",
          "text": [
            "24\n",
            "Cíntia\n",
            "[1, 2, 3]\n"
          ]
        }
      ]
    },
    {
      "cell_type": "markdown",
      "source": [
        "# Dicionários - Criação e Acesso\n",
        "## Cadastro de Pessoas e Análise de Alturas\n",
        "2) Solicite ao usuário para inserir o nome e a altura de várias pessoas. Preencha um dicionário com essas informações e depois encontre e imprima o nome e a altura da pessoa mais alta e da mais baixa."
      ],
      "metadata": {
        "id": "6vEHxGtjBxMi"
      }
    },
    {
      "cell_type": "code",
      "source": [
        "alturas = {}\n",
        "\n",
        "while True:\n",
        "  nome = input(\"Digite o nome: \").lower()\n",
        "  if nome == \"sair\":\n",
        "    break\n",
        "  altura = float(input(\"Digite a altura: \"))\n",
        "  alturas[nome] = altura\n",
        "print(alturas)\n",
        "\n",
        "alto = max(alturas, key=alturas.get)\n",
        "baixo = min(alturas, key=alturas.get)\n",
        "\n",
        "print(f\"A pessoa mais alta é {alto} com {alturas[alto]} de altura\")\n",
        "print(f\"A pessoa mais baixa é {baixo} com {alturas[baixo]} de altura\")"
      ],
      "metadata": {
        "id": "MpJYauvTZR69",
        "outputId": "8fe944db-b443-47b1-f729-020d942868fa",
        "colab": {
          "base_uri": "https://localhost:8080/"
        }
      },
      "execution_count": null,
      "outputs": [
        {
          "output_type": "stream",
          "name": "stdout",
          "text": [
            "Digite o nome: samir\n",
            "Digite a altura: 1.73\n",
            "Digite o nome: abiba\n",
            "Digite a altura: 1.94\n",
            "Digite o nome: peruibe\n",
            "Digite a altura: 0.2\n",
            "Digite o nome: sair\n",
            "{'samir': 1.73, 'abiba': 1.94, 'peruibe': 0.2}\n",
            "A pessoa mais alta é abiba com 1.94 de altura\n",
            "A pessoa mais baixa é peruibe com 0.2 de altura\n"
          ]
        }
      ]
    },
    {
      "cell_type": "markdown",
      "source": [
        "# Lista, laços e Condicionais\n",
        "3) Descrição: Crie uma listacom cinco números inteiros. Use um laço de repetição e uma condicional para imprimir apenas os números que são múltiplos de 3."
      ],
      "metadata": {
        "id": "FytD4QZyELAt"
      }
    },
    {
      "cell_type": "code",
      "source": [
        "numeros = [10,2,37,9,5]\n",
        "\n",
        "for i in numeros:\n",
        "  if i % 3 == 0:\n",
        "    print(i)"
      ],
      "metadata": {
        "colab": {
          "base_uri": "https://localhost:8080/"
        },
        "id": "cWG-b_Xsys-5",
        "outputId": "c41a4995-4bf2-48d4-a0ed-53c810864a8f"
      },
      "execution_count": null,
      "outputs": [
        {
          "output_type": "stream",
          "name": "stdout",
          "text": [
            "9\n"
          ]
        }
      ]
    },
    {
      "cell_type": "markdown",
      "source": [
        "# Manipulação de Strings e Condicionais\n",
        "4) Descrição: Crie uma string com uma frase. Use uma condicional para verificar se a frase contém a palavra \"Python\". Se sim, substitua a palavra \"Python\" por \"programação\" e imprima a nova frase."
      ],
      "metadata": {
        "id": "hwn3Fz8aEYSH"
      }
    },
    {
      "cell_type": "code",
      "source": [
        "while True:\n",
        "  frase = input(\"Digite uma frase: \")\n",
        "  if \"python\" in frase:\n",
        "    frase = frase.replace(\"python\", \"programação\")\n",
        "    print(frase)\n",
        "    break"
      ],
      "metadata": {
        "colab": {
          "base_uri": "https://localhost:8080/"
        },
        "id": "jxwHugCEyGG0",
        "outputId": "3266fcdf-0889-4f8d-be77-f34ccd3f6cf2"
      },
      "execution_count": null,
      "outputs": [
        {
          "output_type": "stream",
          "name": "stdout",
          "text": [
            "Digite uma frase: samir gay\n",
            "Digite uma frase: samir gay\n",
            "Digite uma frase: peruibe odeia python\n",
            "peruibe odeia programação\n"
          ]
        }
      ]
    },
    {
      "cell_type": "markdown",
      "source": [
        "# Simulação de Alfândega com Cadastro Dinâmico de Itens usando dicionário\n",
        "5) Simule uma situação de alfândega onde o funcionário cadastra itens novos encontrados na mala de uma pessoa que veio de uma viagem internacional. Após o cadastro de todos os itens, o programa imprime uma nota com todos os itens e seus preços, calcula o valor total e, se o valor total ultrapassar 500 dólares, calcula o valor de 60% a ser pago."
      ],
      "metadata": {
        "id": "hPP-JNTxEwFT"
      }
    },
    {
      "cell_type": "code",
      "source": [
        "itens = {}\n",
        "while True:\n",
        "  item = input(\"Digite o item ou saia: \").lower()\n",
        "  if item == \"sair\":\n",
        "    break\n",
        "  preco = float(input(\"Digite o preço: \"))\n",
        "  itens[item] = preco\n",
        "print(itens)\n",
        "\n",
        "valor_total = sum(itens.values())\n",
        "print(f\"O valor total é {valor_total}\")\n",
        "\n",
        "if valor_total > 500:\n",
        "  valor_a_pagar = valor_total * 0.4\n",
        "  print(f\"O valor a ser pago é {valor_a_pagar}\")"
      ],
      "metadata": {
        "colab": {
          "base_uri": "https://localhost:8080/"
        },
        "id": "TPACLfYcz-kl",
        "outputId": "59b79338-0d39-48c5-f9d9-9de1a94dce10"
      },
      "execution_count": null,
      "outputs": [
        {
          "output_type": "stream",
          "name": "stdout",
          "text": [
            "Digite o item ou saia: a\n",
            "Digite o preço: 200\n",
            "Digite o item ou saia: b\n",
            "Digite o preço: 600\n",
            "Digite o item ou saia: c\n",
            "Digite o preço: 34.00\n",
            "Digite o item ou saia: sair\n",
            "{'a': 200.0, 'b': 600.0, 'c': 34.0}\n",
            "O valor total é 834.0\n",
            "O valor a ser pago é 333.6\n"
          ]
        }
      ]
    },
    {
      "cell_type": "markdown",
      "source": [
        "# Identificação de Palavras Negativas em um Texto\n",
        "6) Você vai criar um programa em Python para analisar um texto e identificar palavras que expressam pensamentos negativos. Para isso, você usará uma lista de palavras negativas fornecida e verificará quais dessas palavras estão presentes no texto fornecido pelo usuário. Exemplo de palavras negtivas, acrescente mais na lista: # Lista de palavras negativas palavras_negativas = ['triste', 'deprimido', 'ansioso', 'desapontado', 'frustrado']"
      ],
      "metadata": {
        "id": "OH8D047zVsp-"
      }
    },
    {
      "cell_type": "code",
      "source": [
        "palavras_negativas = ['triste', 'deprimido', 'ansioso', 'desapontado', 'frustrado']\n",
        "frase = input(\"Digite a sua frase: \").lower()\n",
        "tem_palavra_negativa = True\n",
        "\n",
        "for palavra in palavras_negativas:\n",
        "  if palavra in frase:\n",
        "    tem_palavra_negativa = False\n",
        "  break\n",
        "\n",
        "if tem_palavra_negativa == False:\n",
        "  print(\"Sua frase tem palavra negativas\")\n",
        "else:\n",
        "  print(\"Sua frase não tem palavras negativas\")"
      ],
      "metadata": {
        "id": "xDSrYWf_Vr8G",
        "colab": {
          "base_uri": "https://localhost:8080/"
        },
        "outputId": "47c90d5b-1eb4-4d0e-95e1-a92368f835ae"
      },
      "execution_count": 2,
      "outputs": [
        {
          "output_type": "stream",
          "name": "stdout",
          "text": [
            "Digite a sua frase: estou feliz\n",
            "Sua frase não tem palavras negativas\n"
          ]
        }
      ]
    }
  ]
}