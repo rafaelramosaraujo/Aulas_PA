{
  "nbformat": 4,
  "nbformat_minor": 0,
  "metadata": {
    "colab": {
      "provenance": [],
      "include_colab_link": true
    },
    "kernelspec": {
      "name": "python3",
      "display_name": "Python 3"
    },
    "language_info": {
      "name": "python"
    }
  },
  "cells": [
    {
      "cell_type": "markdown",
      "metadata": {
        "id": "view-in-github",
        "colab_type": "text"
      },
      "source": [
        "<a href=\"https://colab.research.google.com/github/rafaelramosaraujo/Aulas_PA/blob/main/Condicionais/C%C3%B3pia_de_Lista_de_exerc%C3%ADcios_Operadores_L%C3%B3gicos_e_Realcionais.ipynb\" target=\"_parent\"><img src=\"https://colab.research.google.com/assets/colab-badge.svg\" alt=\"Open In Colab\"/></a>"
      ]
    },
    {
      "cell_type": "markdown",
      "source": [
        "# Antes de Qualquer coisa Salve uma cópia no seu drive para não perder os códigos"
      ],
      "metadata": {
        "id": "u7J214bEGDpV"
      }
    },
    {
      "cell_type": "markdown",
      "source": [
        "## vá em arquivos: Salvar uma cópia no Drive"
      ],
      "metadata": {
        "id": "zT3Nb6BfGL56"
      }
    },
    {
      "cell_type": "markdown",
      "source": [
        "#Lista de exercícios - Operadores Lógicos e Relacionais\n",
        "\n"
      ],
      "metadata": {
        "id": "IfPXF-sV3xLF"
      }
    },
    {
      "cell_type": "markdown",
      "source": [
        "Em Python, usamos operadores relacionais e lógicos para fazer comparações e tomar decisões com base em condições. Eles são fundamentais na construção de estruturas de controle como if, while e outras."
      ],
      "metadata": {
        "id": "eIwxJUSq3I9d"
      }
    },
    {
      "cell_type": "markdown",
      "source": [
        "✅ Operadores Relacionais\n",
        "\n",
        "Os operadores relacionais comparam dois valores e retornam um resultado booleano (ou seja, True ou False).\n",
        "\n",
        "**Veja os principais:**\n",
        "\n",
        "\"==\" → verifica se dois valores são iguais\n",
        "\n",
        "\"!=\" → verifica se dois valores são diferentes\n",
        "\n",
        "\">\" → verifica se o valor da esquerda é maior\n",
        "\n",
        "\"<\" → verifica se o valor da esquerda é menor\n",
        "\n",
        "\">=\" → verifica se é maior ou igual\n",
        "\n",
        "\"<=\" → verifica se é menor ou igual\n",
        "\n",
        "✅ Operadores Lógicos\n",
        "\n",
        "Os operadores lógicos são usados para combinar condições. Eles também retornam valores booleanos e são muito úteis quando precisamos verificar mais de uma condição ao mesmo tempo.\n",
        "\n",
        "and (E): Retorna True somente se todas as condições forem verdadeiras\n",
        "\n",
        "or (OU): Retorna True se pelo menos uma das condições for verdadeira\n",
        "\n",
        "not (NÃO): Inverte o valor lógico de uma expressão"
      ],
      "metadata": {
        "id": "wZu_EmmK318x"
      }
    },
    {
      "cell_type": "markdown",
      "source": [
        "## Veja os exemplos abaixo - Execute os códigos um a um para entender, troque os valores para ficar mais fácil o entendimento"
      ],
      "metadata": {
        "id": "8vX8RQvs4dsQ"
      }
    },
    {
      "cell_type": "code",
      "source": [
        "# Operadores Relacionais\n",
        "#  1. Igualdade (==) e Diferença (!=)\n",
        "a = 10\n",
        "b = 5\n",
        "\n",
        "print(a == b)\n",
        "print(a != b)"
      ],
      "metadata": {
        "id": "xNVmeRUMU3OU"
      },
      "execution_count": null,
      "outputs": []
    },
    {
      "cell_type": "markdown",
      "source": [
        "## Aplicação em senhas"
      ],
      "metadata": {
        "id": "5CIZb32GBgh3"
      }
    },
    {
      "cell_type": "code",
      "source": [
        "#entrada\n",
        "senhacerta=\"gostopython\"\n",
        "senha = input(\"Digite a senha: \")\n",
        "#processamento\n",
        "logado = senhacerta == senha\n",
        "#saída\n",
        "print(\"Está logado? \", logado)\n"
      ],
      "metadata": {
        "id": "ihCaXz_WBRNX"
      },
      "execution_count": null,
      "outputs": []
    },
    {
      "cell_type": "code",
      "source": [
        "# 2. Comparações (> , < , >= , <=)\n",
        "x = 8\n",
        "y = 12\n",
        "\n",
        "print(\"X é maior que Y?\", x > y)\n",
        "print(\"X é menor que Y?\",x < y)\n",
        "print(\"X é maior ou igual e Y?\",x >= 8)\n",
        "print(\"X é menor ou igual a Y?\",y <= 10)"
      ],
      "metadata": {
        "id": "fLAmvGGTVhPm"
      },
      "execution_count": null,
      "outputs": []
    },
    {
      "cell_type": "markdown",
      "source": [
        "## aplicação do exemplo anterior mais operador lógico"
      ],
      "metadata": {
        "id": "Vy3Q7wF8Cl40"
      }
    },
    {
      "cell_type": "code",
      "source": [
        "# 3. Operador \"AND\" (E) - Ambos precisam ser verdadeiros\n",
        "idade = 11\n",
        "tem_autorizacao = True\n",
        "\n",
        "podentrar = (idade >= 12 and tem_autorizacao)\n",
        "\n",
        "print(\"Pode entrar no evento?\", podentrar)\n"
      ],
      "metadata": {
        "id": "9dj-xWQ1WOe4"
      },
      "execution_count": null,
      "outputs": []
    },
    {
      "cell_type": "markdown",
      "source": [
        "## Com entrada de dados pelo Teclado"
      ],
      "metadata": {
        "id": "MNGl1vEvCSPN"
      }
    },
    {
      "cell_type": "code",
      "source": [
        "idade = int(input(\"Qual sua idade?\"))\n",
        "autorizacao = input(\"Trouxe autorização do seus responsáveis?\") #resposta tem que ser True ou False\n",
        "\n",
        "podentrar = (idade >= 12 and tem_autorizacao)\n",
        "\n",
        "print(\"Pode entrar no evento?\", podentrar)\n"
      ],
      "metadata": {
        "id": "nSqIDj2u-Rpw"
      },
      "execution_count": null,
      "outputs": []
    },
    {
      "cell_type": "markdown",
      "source": [
        "## outra forma de fazer o mesmo exercício, usando outra entrada de dados\n"
      ],
      "metadata": {
        "id": "uNuVUBkrCXpK"
      }
    },
    {
      "cell_type": "code",
      "source": [
        "idade = int(input(\"Qual sua idade? \"))\n",
        "autorizacao = int(input(\"Trouxe autorização do seus responsáveis?\\nDigite 1 para sim \\nDigite 2 para não: \"))\n",
        "\n",
        "verificacao = autorizacao==1\n",
        "\n",
        "podentrar = (idade >= 12 and verificacao)\n",
        "\n",
        "print(\"Pode entrar no evento?\", podentrar)"
      ],
      "metadata": {
        "id": "711Kvx27-4fm"
      },
      "execution_count": null,
      "outputs": []
    },
    {
      "cell_type": "code",
      "source": [
        "# 4. Operador \"OR\" (OU) - Basta um ser verdadeiro\n",
        "tem_ingresso = False\n",
        "nome_na_lista = False\n",
        "\n",
        "podeentrar = tem_ingresso or nome_na_lista\n",
        "\n",
        "print(\"Pode entrar na festa? \", podeentrar )"
      ],
      "metadata": {
        "id": "pR0TrqcMWx1f"
      },
      "execution_count": null,
      "outputs": []
    },
    {
      "cell_type": "code",
      "source": [
        "# 5. Operador \"NOT\" (NÃO) - Inverte o valor\n",
        "chovendo = True\n",
        "\n",
        "print(not chovendo)"
      ],
      "metadata": {
        "id": "g5C5xYyMW_rZ"
      },
      "execution_count": null,
      "outputs": []
    },
    {
      "cell_type": "code",
      "source": [
        "# 6. Misturando Relacionais + Lógicos\n",
        "nota = 7\n",
        "presenca = 65\n",
        "\n",
        "print(nota >= 6 and presenca >= 75)\n"
      ],
      "metadata": {
        "id": "MCpdGwU1XETi"
      },
      "execution_count": null,
      "outputs": []
    },
    {
      "cell_type": "markdown",
      "source": [
        "##Exemplo: Soma de 3 valores com desconto automático (sem if)\n",
        "\n",
        "O usuário terá desconto se a soma dos valores for maior que R$ 1000,00"
      ],
      "metadata": {
        "id": "t0n3Ajr-Ebfw"
      }
    },
    {
      "cell_type": "code",
      "source": [
        "# 7. com cálculos no meio.\n",
        "\n",
        "# Solicita três valores ao usuário\n",
        "v1 = float(input(\"Digite o valor do primeiro produto: \"))\n",
        "v2 = float(input(\"Digite o valor do segundo produto:  \"))\n",
        "v3 = float(input(\"Digite o valor do terceiro produto:  \"))\n",
        "\n",
        "# Soma total\n",
        "total = v1 + v2 + v3\n",
        "\n",
        "desconto =(total >= 1000)\n",
        "\n",
        "print(\"Vai ter desconto? \", desconto)"
      ],
      "metadata": {
        "id": "GpzpYjATEH_1"
      },
      "execution_count": null,
      "outputs": []
    },
    {
      "cell_type": "markdown",
      "source": [
        "##Seguindo os exemplos anteriores.  Faça os outros em seguida:\n",
        "\n",
        "# Importante: NÃO USE O CONDICIONAL IF. É obrigatório o uso apenas de operadores lógicos, relacioais e variáveis."
      ],
      "metadata": {
        "id": "MIudH-lZ4g35"
      }
    },
    {
      "cell_type": "markdown",
      "source": [
        "1- Solicite ao usuário a idade; Pergunte se está com responsável;\n",
        "\n",
        "Regra: A entrada para o cinema é permitida se a pessoa tiver 14 anos ou mais ou estiver acompanhada de um responsável.\n",
        "\n",
        "Na Saída informa se é True ou False, a possivel entrada no Cinema.\n",
        "\n",
        "Exemplo: Pode entrar no Cinema?....\n",
        "\n",
        "A Resposta esperada sera True ou False"
      ],
      "metadata": {
        "id": "A847ArYB4zIG"
      }
    },
    {
      "cell_type": "code",
      "source": [
        "#entrada\n",
        "idade = int(input(\"Qual sua idade? \"))\n",
        "responsavel = int(input(\"Você está acompanhado de um responsável?\\nDigite 1 para sim \\nDigite 2 para não: \"))\n",
        "\n",
        "#processamento\n",
        "prermissao = (responsavel==1)\n",
        "podeentrar = (idade >= 14 or prermissao)\n",
        "\n",
        "#saida\n",
        "print(\"Pode entrar no Cinema?\", podeentrar)"
      ],
      "metadata": {
        "id": "RWkY0IusDp1F",
        "colab": {
          "base_uri": "https://localhost:8080/"
        },
        "outputId": "572a9e51-45d4-45d0-c0df-3680d04c14a5"
      },
      "execution_count": null,
      "outputs": [
        {
          "output_type": "stream",
          "name": "stdout",
          "text": [
            "Qual sua idade? 14\n",
            "Você está acompanhado de um responsável?\n",
            "Digite 1 para sim \n",
            "Digite 2 para não: 2\n",
            "Pode entrar no Cinema? True\n"
          ]
        }
      ]
    },
    {
      "cell_type": "markdown",
      "source": [
        "2- Um jogador só recebe promoção se: tiver mais de 1000 pontos OU for assinante premium.\n",
        "* Solicite os pontos na primeira entrada;\n",
        "* Solicite que tipo de assinante ele é;\n",
        "* Na saída informa se é Verdadeiro ou Falso a promoção;"
      ],
      "metadata": {
        "id": "1Z7RsUTF44M5"
      }
    },
    {
      "cell_type": "code",
      "source": [
        "#entrada\n",
        "pontos = int(input(\"Quantos pontos você tem? \"))\n",
        "assinante = int(input(\"Você é assinante premium?\\nDigite 1 para sim \\nDigite 2 para não: \"))\n",
        "\n",
        "#processamento\n",
        "assinante = (assinante==1)\n",
        "promocao = (pontos >= 1000 or assinante)\n",
        "\n",
        "#saida\n",
        "print(\"Você receberá promoção?\", promocao)"
      ],
      "metadata": {
        "id": "QRHx7-KtDqVZ",
        "colab": {
          "base_uri": "https://localhost:8080/"
        },
        "outputId": "c86a3f51-3b71-4aec-895f-4210f4180964"
      },
      "execution_count": null,
      "outputs": [
        {
          "output_type": "stream",
          "name": "stdout",
          "text": [
            "Quantos pontos você tem? 1000\n",
            "Você é assinante premium?\n",
            "Digite 1 para sim \n",
            "Digite 2 para não: 2\n",
            "Você receberá promoção? True\n"
          ]
        }
      ]
    },
    {
      "cell_type": "markdown",
      "source": [
        "3- Solicite um valor ao usuário.\n",
        "* Verifique se o número que o usuário digitou está entre 10 e 20\n",
        "* Na saída infome se é verdadeiro ou falso. }Exemplo saída. \"O número está entre 10 e 20\". A resposta será True ou False."
      ],
      "metadata": {
        "id": "tAFfmQ8u459E"
      }
    },
    {
      "cell_type": "code",
      "source": [
        "#entrada\n",
        "valor = int(input(\"Digite um valor: \"))\n",
        "\n",
        "#processamento\n",
        "verificacao = (valor >= 10 and valor <= 20)\n",
        "\n",
        "#saida\n",
        "print(\"O número está entre 10 e 20?\", verificacao)"
      ],
      "metadata": {
        "id": "6WjvOAV_DqsF",
        "colab": {
          "base_uri": "https://localhost:8080/"
        },
        "outputId": "b2cfccea-57a4-41c6-89e2-59995c7d4ac4"
      },
      "execution_count": null,
      "outputs": [
        {
          "output_type": "stream",
          "name": "stdout",
          "text": [
            "Digite um valor: 15\n",
            "O número está entre 10 e 20? True\n"
          ]
        }
      ]
    },
    {
      "cell_type": "markdown",
      "source": [
        "4- Solicite a idade da pessoa, e pergunte quanto ela tem em dinheiro.\n",
        "\n",
        "* A pessoa pode fazer uma viagem se: tiver mais de 18 anos E tiver mais de R$ 2000,00\n",
        "\n",
        "* Na Saída informe se é Verdeiro ou falso A possibilidade da Viagem. Exemplo: Vai viajar? - O retorno será True or False"
      ],
      "metadata": {
        "id": "gx_l2c025hNr"
      }
    },
    {
      "cell_type": "code",
      "source": [
        "#entrada\n",
        "idade = int(input(\"Qual sua idade? \"))\n",
        "dinheiro = float(input(\"Quanto você tem em dinheiro? \"))\n",
        "\n",
        "#processamento\n",
        "verificacao = (idade >= 18 and dinheiro >= 2000)\n",
        "\n",
        "#saida\n",
        "print(\"Vai viajar?\", verificacao)"
      ],
      "metadata": {
        "id": "__EsZX4nDrF8",
        "colab": {
          "base_uri": "https://localhost:8080/"
        },
        "outputId": "5b5e1db0-bd59-44e6-e53c-d6a492aa45fb"
      },
      "execution_count": null,
      "outputs": [
        {
          "output_type": "stream",
          "name": "stdout",
          "text": [
            "Qual sua idade? 65\n",
            "Quanto você tem em dinheiro? 2000\n",
            "Vai viajar? True\n"
          ]
        }
      ]
    },
    {
      "cell_type": "markdown",
      "source": [
        "5- Solicite a idade da pessoa, e pergunte quanto ela tem em dinheiro e agora pergunte se ela vai viajar com os pais.\n",
        "\n",
        "* A pessoa pode fazer uma viagem se: (tiver mais de 18 anos E tiver mais de R$ 2000,00) ou se ela estiver com os pais.\n",
        "\n",
        "* Na Saída informe se é Verdeiro ou falso A possibilidade da Viagem. Exemplo: Vai viajar? - O retorno será True or False\n"
      ],
      "metadata": {
        "id": "e4zE89vu6AsO"
      }
    },
    {
      "cell_type": "code",
      "source": [
        "#entrada\n",
        "idade = int(input(\"Qual sua idade? \"))\n",
        "dinheiro = float(input(\"Quanto você tem em dinheiro? \"))\n",
        "pais = int(input(\"Você vai viajar com os pais?\\nDigite 1 para sim \\nDigite 2 para não: \"))\n",
        "\n",
        "#processamento\n",
        "verificacao = (idade >= 18 and dinheiro >= 2000)\n",
        "verificacao2 = (pais==1)\n",
        "verificacao3 = (verificacao or verificacao2)\n",
        "\n",
        "#saida\n",
        "print(\"Vai viajar?\", verificacao3)"
      ],
      "metadata": {
        "id": "FIj0zQUXDrif",
        "colab": {
          "base_uri": "https://localhost:8080/"
        },
        "outputId": "386e01f0-db47-47d9-962b-b91b0cc7c37b"
      },
      "execution_count": null,
      "outputs": [
        {
          "output_type": "stream",
          "name": "stdout",
          "text": [
            "Qual sua idade? 20\n",
            "Quanto você tem em dinheiro? 1999\n",
            "Você vai viajar com os pais?\n",
            "Digite 1 para sim \n",
            "Digite 2 para não: 1\n",
            "Vai viajar? True\n"
          ]
        }
      ]
    },
    {
      "cell_type": "markdown",
      "source": [
        "6-Solicite três notas ao usuário e calcule a média e também solicite quantos dias letivos tem no ano e quantas faltas ele teve.\n",
        "\n",
        "* Calcule a média (somando as notas e dividindo por 3)\n",
        "* Calcule o percential de faltas (Divida a quantidade de faltas pela quantidade de dias letivos e multiplique por 100).\n",
        "* Depois subtraia de 100 esse valor e obterá o percentual de presença\n",
        "\n",
        "Exemplo se o aluno faltou 5 vezes em 100 dias letivos:\n",
        "\n",
        "faltas = 5/100, obterá: 0,05, que multiplicando por 100 será 5.\n",
        "result = faltas * 100. Ou seja, 5% de faltas.\n",
        "\n",
        "percentual = 100 - result. Valor obtido nesse caso será 95, que representa 95% de presença.\n",
        "\n",
        "\n",
        "* Para passar de ano, o aluno precisa de nota maior ou igual a 6 E presença maior ou igual a 75%\n",
        "\n",
        "* Na saída informe se é verdadeiro ou falso que ele irá passar de ano. Exemplo: Vai passar de Ano? Ira ter como resposta: True or False\n"
      ],
      "metadata": {
        "id": "YwP3YbWN41v1"
      }
    },
    {
      "cell_type": "code",
      "source": [
        "\n",
        "#entrada\n",
        "nota1 = float(input(\"Digite a primeira nota: \"))\n",
        "nota2 = float(input(\"Digite a segunda nota: \"))\n",
        "nota3 = float(input(\"Digite a terceira nota: \"))\n",
        "dias = int(input(\"Digite a quantidade de dias letivos: \"))\n",
        "faltas = int(input(\"Digite a quantidade de faltas: \"))\n",
        "\n",
        "#processamento\n",
        "media = (nota1 + nota2 + nota3) / 3\n",
        "faltas = faltas / dias\n",
        "faltas = faltas * 100\n",
        "faltas = 100 - faltas\n",
        "\n",
        "verificacao = (media >= 6 and faltas >= 75)\n",
        "\n",
        "#saida\n",
        "print(\"Vai passar de ano?\", verificacao)"
      ],
      "metadata": {
        "id": "BjfMiCxRDr-h",
        "colab": {
          "base_uri": "https://localhost:8080/"
        },
        "outputId": "2be14364-1ff3-471f-f20a-33bba6506239"
      },
      "execution_count": null,
      "outputs": [
        {
          "output_type": "stream",
          "name": "stdout",
          "text": [
            "Digite a primeira nota: 1\n",
            "Digite a segunda nota: 2\n",
            "Digite a terceira nota: 3\n",
            "Digite a quantidade de dias letivos: 90\n",
            "Digite a quantidade de faltas: 90\n",
            "Vai passar de ano? False\n"
          ]
        }
      ]
    },
    {
      "cell_type": "markdown",
      "source": [
        "7) Peça para o usuário digitar um valor informe se ele é par ou impar"
      ],
      "metadata": {
        "id": "IOXzmuPgzrUz"
      }
    },
    {
      "cell_type": "code",
      "source": [
        "#entrada\n",
        "valor = int(input(\"Digite um valor: \"))\n",
        "\n",
        "#processamento\n",
        "verificacao = (valor % 2 == 0)\n",
        "\n",
        "#saida\n",
        "print(\"O número é par?\", verificacao)\n"
      ],
      "metadata": {
        "id": "W3s-pjSNzuxj"
      },
      "execution_count": null,
      "outputs": []
    },
    {
      "cell_type": "markdown",
      "source": [
        "8 ) Faça um algoritmo em Python que receba o valor de três lados de um possível triângulo (l1, l2 e l3) e utilize operadores relacionais e lógicos para:\n",
        "\n",
        "1.\tVerificar se os valores informados podem formar um triângulo.\n",
        "2.\tIdentificar se o triângulo é equilátero, escaleno ou isósceles.\n",
        "\n",
        "O programa deve atribuir True ou False para cada uma das seguintes variáveis:\n",
        "* triangulo: True se os lados puderem formar um triângulo.\n",
        "* equilatero: True se o triângulo for equilátero.\n",
        "* escaleno: True se o triângulo for escaleno.\n",
        "* isosceles: True se o triângulo for isósceles.\n",
        "\n",
        "Dica: Um triângulo só é possível se a soma de dois lados for maior que o terceiro, para os três pares possíveis.\n",
        "\n",
        "Lógica necessária\n",
        "\n",
        "Para ser um triângulo:\n",
        "\n",
        "* l1+l2>l3 e\n",
        "* l1+l3>l2l e\n",
        "* l2+l3>l1\n",
        "\n",
        "Tipos de triângulo:\n",
        "* Equilátero: todos os lados iguais.\n",
        "* Escaleno: todos os lados diferentes.\n",
        "* Isósceles: dois lados iguais."
      ],
      "metadata": {
        "id": "fDwuVk9JzvWr"
      }
    },
    {
      "cell_type": "code",
      "source": [
        "#entrada\n",
        "l1 = float(input(\"Digite o valor do primeiro lado: \"))\n",
        "l2 = float(input(\"Digite o valor do segundo lado: \"))\n",
        "l3 = float(input(\"Digite o valor do terceiro lado: \"))\n",
        "\n",
        "#peocessamento\n",
        "triangulo = (l1 + l2 > l3) and (l1 + l3 > l2) and (l2 + l3 > l1)\n",
        "equilatero = (l1 == l2) and (l1 == l3) and (l2 == l3)\n",
        "escaleno = (l1 != l2) and (l1 != l3) and (l2 != l3)\n",
        "isosceles = (l1 == l2) or (l1 == l3) or (l2 == l3)\n",
        "\n",
        "#saida\n",
        "print(\"É um triângulo?\", triangulo)\n",
        "print(\"É um triângulo equilátero?\", equilatero)\n",
        "print(\"É um triângulo escaleno?\", escaleno)\n",
        "print(\"É um triângulo isósceles?\", isosceles)"
      ],
      "metadata": {
        "id": "K57FadkSz1DL"
      },
      "execution_count": null,
      "outputs": []
    },
    {
      "cell_type": "markdown",
      "source": [
        "9) Faça um programa que solicite peso e altura, informe seu IMC. Ao final informe se ele está, abaixo do peso,peso ideal ou acima do peso. fórmula do IMC: (peso/altura^2), siga a tabela abaixo:\n",
        "\n",
        "IMC \t                    \n",
        "* Menos do que 18,5 ==> Abaixo do Peso\n",
        "* Entre 18,5 e 24,9  ==>Peso normal\n",
        "* Entre 25 e 29,9  ==> \tSobrepeso\n",
        "* Entre 30 e 34,9  ==> \tObesidade grau 1\n",
        "* Entre 35 e 39,9  ==> \tObesidade grau 2\n",
        "* Mais do que 40 \t  ==> Obesidade grau 3"
      ],
      "metadata": {
        "id": "ymt6F0gqz2E7"
      }
    },
    {
      "cell_type": "code",
      "source": [
        "#entrada\n",
        "peso = int(input(\"Digite seu peso: \"))\n",
        "altura = float(input(\"Digite sua altura: \"))\n",
        "\n",
        "#processamento\n",
        "imc = peso / (altura ** 2)\n",
        "abaixo = imc < 18.5\n",
        "normal = imc >= 18.5 and imc <= 24.9\n",
        "sobrepeso = imc >= 25 and imc <= 29.9\n",
        "obesidade1 = imc >= 30 and imc <= 34.9\n",
        "obesidade2 = imc >= 35 and imc <= 39.9\n",
        "obesidade3 = imc >= 40\n",
        "\n",
        "#saida\n",
        "print(f\"Seu IMC é: {imc:.2f}\")\n",
        "print(\"Abaixo do peso?\", abaixo)\n",
        "print(\"Peso normal?\", normal)\n",
        "print(\"Sobrepeso?\", sobrepeso)\n",
        "print(\"Obesidade grau 1?\", obesidade1)\n",
        "print(\"Obesidade grau 2?\", obesidade2)\n",
        "print(\"Obesidade grau 3?\", obesidade3)"
      ],
      "metadata": {
        "id": "RDkZYCOVz50b",
        "colab": {
          "base_uri": "https://localhost:8080/"
        },
        "outputId": "4f38116b-60b6-4402-9f9b-9d600060e809"
      },
      "execution_count": null,
      "outputs": [
        {
          "output_type": "stream",
          "name": "stdout",
          "text": [
            "Digite seu peso: 91\n",
            "Digite sua altura: 1.73\n",
            "Seu IMC é: 30.41\n",
            "Abaixo do peso? False\n",
            "Peso normal? False\n",
            "Sobrepeso? False\n",
            "Obesidade grau 1? True\n",
            "Obesidade grau 2? False\n",
            "Obesidade grau 3? False\n"
          ]
        }
      ]
    },
    {
      "cell_type": "markdown",
      "source": [
        "4) Faça um programa que solicite altura e idade do usuário, informe se ele pode ou nao competir. Regras: Para competir no campeonato de vôlei o usuário de ter pelo menos 1.75 de altura e 18 anos."
      ],
      "metadata": {
        "id": "29dWEOf3z9hj"
      }
    },
    {
      "cell_type": "code",
      "source": [
        "#entrada\n",
        "altura = float(input(\"Digite sua altura: \"))\n",
        "idade = int(input(\"Digite sua idade: \"))\n",
        "\n",
        "#processamento\n",
        "verificacao = (altura >= 1.75 and idade >= 18)\n",
        "\n",
        "#saida\n",
        "print(\"Pode competir?\", verificacao)\n"
      ],
      "metadata": {
        "id": "GmDaYiUvz_TZ",
        "colab": {
          "base_uri": "https://localhost:8080/"
        },
        "outputId": "1d55e3ce-8d05-4e53-cfb2-7a17a9bc2317"
      },
      "execution_count": null,
      "outputs": [
        {
          "output_type": "stream",
          "name": "stdout",
          "text": [
            "Digite sua altura: 1.73\n",
            "Digite sua idade: 65\n",
            "Pode competir? False\n"
          ]
        }
      ]
    },
    {
      "cell_type": "markdown",
      "source": [
        "# Condicionais\n"
      ],
      "metadata": {
        "id": "XxEu7bhV7et6"
      }
    },
    {
      "cell_type": "markdown",
      "source": [
        "## Condicional simples\n"
      ],
      "metadata": {
        "id": "olWodTg87kk0"
      }
    },
    {
      "cell_type": "code",
      "source": [
        "idade = 18\n",
        "\n",
        "if idade >= 18:\n",
        "  print(\"você é maior de idade\")\n",
        "else:\n",
        "  print(\"você é menor de idade\")\n"
      ],
      "metadata": {
        "colab": {
          "base_uri": "https://localhost:8080/"
        },
        "id": "8JsthKys7ptu",
        "outputId": "083ea8f3-cb23-4c17-f0f3-c6f6ca3e9780"
      },
      "execution_count": null,
      "outputs": [
        {
          "output_type": "stream",
          "name": "stdout",
          "text": [
            "você é maior de idade\n"
          ]
        }
      ]
    },
    {
      "cell_type": "markdown",
      "source": [
        "# Calcula a média percentual de faltas"
      ],
      "metadata": {
        "id": "Pwib5mQz-UFk"
      }
    },
    {
      "cell_type": "code",
      "source": [
        "#entrada\n",
        "nota1 = float(input(\"Digite a primeira nota: \"))\n",
        "nota2 = float(input(\"Digite a segunda nota: \"))\n",
        "nota3 = float(input(\"Digite a terceira nota: \"))\n",
        "dias = int(input(\"Digite a quantidade de dias letivos: \"))\n",
        "faltas = int(input(\"Digite a quantidade de faltas: \"))\n",
        "\n",
        "#processamento\n",
        "media = (nota1 + nota2 + nota3) / 3\n",
        "faltas = faltas / dias\n",
        "faltas = faltas * 100\n",
        "faltas = 100 - faltas\n",
        "\n",
        "if media >= 6 and faltas >= 75:\n",
        "  print(\"Voce está Aprovado, com nota: \", media, \"e percentual de presença de: \", faltas, \"%\")\n",
        "else:\n",
        "  print(\"Voce foi Reprovado, com nota: \", media, \"e percentual de presença de: \", faltas, \"%\")"
      ],
      "metadata": {
        "colab": {
          "base_uri": "https://localhost:8080/"
        },
        "id": "TmiSXLzr-TMd",
        "outputId": "e8342cb6-dd0d-4348-f7b1-93605b626e7e"
      },
      "execution_count": null,
      "outputs": [
        {
          "output_type": "stream",
          "name": "stdout",
          "text": [
            "Digite a primeira nota: 6\n",
            "Digite a segunda nota: 7\n",
            "Digite a terceira nota: 8\n",
            "Digite a quantidade de dias letivos: 5\n",
            "Digite a quantidade de faltas: 1\n",
            "Voce está Aprovado, com nota:  7.0 e percentual de presença de:  80.0 %\n"
          ]
        }
      ]
    },
    {
      "cell_type": "markdown",
      "source": [
        "# Condicional Composto\n",
        "## Converter Notas e Menções"
      ],
      "metadata": {
        "id": "vrhR2XMJB6fs"
      }
    },
    {
      "cell_type": "code",
      "source": [
        "nota = float(input(\"Digite a nota: \"))"
      ],
      "metadata": {
        "colab": {
          "base_uri": "https://localhost:8080/"
        },
        "id": "06W7pUhCB-x6",
        "outputId": "82e31e46-7ce5-4555-a645-3b656388f141"
      },
      "execution_count": null,
      "outputs": [
        {
          "name": "stdout",
          "output_type": "stream",
          "text": [
            "Digite a nota: -9\n"
          ]
        }
      ]
    },
    {
      "cell_type": "code",
      "source": [
        "if nota>=0 and nota<5:\n",
        "  print(\"I\")\n",
        "elif (nota>=5 and nota<=6.5):\n",
        "  print(\"R\")\n",
        "elif (nota>6.5 and nota<8.5):\n",
        "  print(\"B\")\n",
        "elif (nota>=8.5 and nota<=10):\n",
        "  print(\"MB\")\n",
        "else:\n",
        "  print(\"Nota inválida\")\n"
      ],
      "metadata": {
        "colab": {
          "base_uri": "https://localhost:8080/"
        },
        "id": "miTe1qITCS-O",
        "outputId": "9771bcec-94f0-4782-d30c-04ba70022d9c"
      },
      "execution_count": null,
      "outputs": [
        {
          "output_type": "stream",
          "name": "stdout",
          "text": [
            "Nota inválida\n"
          ]
        }
      ]
    },
    {
      "cell_type": "markdown",
      "source": [
        "## Condicional alinhado"
      ],
      "metadata": {
        "id": "npA9tpuiyC6-"
      }
    },
    {
      "cell_type": "code",
      "source": [
        "usuario = \"admin\"\n",
        "senha = \"1234\""
      ],
      "metadata": {
        "id": "tetUoGFmyHp7"
      },
      "execution_count": null,
      "outputs": []
    },
    {
      "cell_type": "code",
      "source": [
        "if usuario == \"admin\":\n",
        "  if senha == \"1234\":\n",
        "    print(\"Acesso Permitido\")\n",
        "  else:\n",
        "    print(\"Senha Incorreta\")\n",
        "else :\n",
        "  print(\"Usuário Incorreto\")"
      ],
      "metadata": {
        "id": "g0yXYM7Kzp-q"
      },
      "execution_count": null,
      "outputs": []
    },
    {
      "cell_type": "markdown",
      "source": [
        "### Exemplo 2"
      ],
      "metadata": {
        "id": "K6WO5Khe4tM7"
      }
    },
    {
      "cell_type": "code",
      "source": [
        "idade = 17\n",
        "tem_autorizacao = True\n",
        "membro_vip = False\n",
        "if idade >=18:\n",
        "  print(\"Acesso Permitido!\")\n",
        "  if membro_vip:\n",
        "    print(\"acesso permitido com bebida a vontade.\")\n",
        "else:\n",
        "  if tem_autorizacao:\n",
        "    print(\"Acesso Limitado a areas comuns, não pode beber!\")\n",
        "  else:\n",
        "    print(\"Acesso Negado\")\n",
        "\n"
      ],
      "metadata": {
        "id": "iAgX1XCN4xBR"
      },
      "execution_count": null,
      "outputs": []
    },
    {
      "cell_type": "markdown",
      "source": [
        "# lista de exercicios"
      ],
      "metadata": {
        "id": "1yBKSVXN6qM_"
      }
    },
    {
      "cell_type": "markdown",
      "source": [
        "exercicio 1"
      ],
      "metadata": {
        "id": "1cO0DkLP6yf0"
      }
    },
    {
      "cell_type": "code",
      "source": [
        "lado1 = float(input(\"Digite o valor do primeiro lado: \"))\n",
        "lado2 = float(input(\"Digite o valor do segundo lado: \"))\n",
        "lado3 = float(input(\"Digite o valor do terceiro lado: \"))\n",
        "\n",
        "if lado1 == lado2 and lado1 == lado3:\n",
        "    print(\"É um triângulo equilátero.\")\n",
        "elif lado1 == lado2 or lado1 == lado3 or lado2 == lado3:\n",
        "    print(\"É um triângulo isósceles.\")\n",
        "else:\n",
        "    print(\"É um triângulo escaleno.\")"
      ],
      "metadata": {
        "colab": {
          "base_uri": "https://localhost:8080/"
        },
        "id": "Xa3Xbrk-7GeI",
        "outputId": "f72f77c9-7ca2-4066-a4e2-3bd43b4d261b"
      },
      "execution_count": null,
      "outputs": [
        {
          "output_type": "stream",
          "name": "stdout",
          "text": [
            "Digite o valor do primeiro lado: 10\n",
            "Digite o valor do segundo lado: 10\n",
            "Digite o valor do terceiro lado: 7\n",
            "É um triângulo isósceles.\n"
          ]
        }
      ]
    },
    {
      "cell_type": "markdown",
      "source": [
        "Exercicio 2"
      ],
      "metadata": {
        "id": "EhGVbUPn79v0"
      }
    },
    {
      "cell_type": "code",
      "source": [
        "valor = int(input(\"Digite um valor: \"))\n",
        "\n",
        "if valor % 2 == 0:\n",
        "    print(\"O número é par.\")\n",
        "else:\n",
        "    print(\"O número é ímpar.\")"
      ],
      "metadata": {
        "id": "XBgGzMZU7_q8",
        "colab": {
          "base_uri": "https://localhost:8080/"
        },
        "outputId": "910d9d65-9f20-4c46-b2dd-35de8de600e7"
      },
      "execution_count": 17,
      "outputs": [
        {
          "output_type": "stream",
          "name": "stdout",
          "text": [
            "Digite um valor: 994345\n",
            "O número é ímpar.\n"
          ]
        }
      ]
    },
    {
      "cell_type": "markdown",
      "source": [
        "Exercicio 3"
      ],
      "metadata": {
        "id": "WIvlS-ip8GBk"
      }
    },
    {
      "cell_type": "code",
      "source": [
        "peso = int(input(\"Digite seu peso: \"))\n",
        "altura = float(input(\"Digite sua altura: \"))\n",
        "\n",
        "#processamento\n",
        "imc = peso / (altura ** 2)\n",
        "abaixo = imc < 18.5\n",
        "normal = imc >= 18.5 and imc <= 24.9\n",
        "sobrepeso = imc >= 25 and imc <= 29.9\n",
        "obesidade1 = imc >= 30 and imc <= 34.9\n",
        "obesidade2 = imc >= 35 and imc <= 39.9\n",
        "obesidade3 = imc >= 40\n",
        "\n",
        "#saida\n",
        "print(f\"Seu IMC é: {imc:.2f}\")\n",
        "print(\"Abaixo do peso?\", abaixo)\n",
        "print(\"Peso normal?\", normal)\n",
        "print(\"Sobrepeso?\", sobrepeso)\n",
        "print(\"Obesidade grau 1?\", obesidade1)\n",
        "print(\"Obesidade grau 2?\", obesidade2)\n",
        "print(\"Obesidade grau 3?\", obesidade3)\n"
      ],
      "metadata": {
        "id": "wC98IoYr8HeJ",
        "colab": {
          "base_uri": "https://localhost:8080/"
        },
        "outputId": "1e122a98-ec73-4315-8e49-48a7c0a3e691"
      },
      "execution_count": 14,
      "outputs": [
        {
          "output_type": "stream",
          "name": "stdout",
          "text": [
            "Digite seu peso: 92\n",
            "Digite sua altura: 1.72\n",
            "Seu IMC é: 31.10\n",
            "Abaixo do peso? False\n",
            "Peso normal? False\n",
            "Sobrepeso? False\n",
            "Obesidade grau 1? True\n",
            "Obesidade grau 2? False\n",
            "Obesidade grau 3? False\n"
          ]
        }
      ]
    },
    {
      "cell_type": "markdown",
      "source": [
        "Exercicio 4"
      ],
      "metadata": {
        "id": "qO7tWYNV9F1V"
      }
    },
    {
      "cell_type": "code",
      "source": [
        "nome_usuario = \"cliente\"\n",
        "senha = \"1234\"\n",
        "\n",
        "nome_usuario = input(\"Digite seu nome de usuário: \")\n",
        "senha = input(\"Digite sua senha: \")\n",
        "\n",
        "if nome_usuario == \"cliente\" and senha == \"1234\":\n",
        "    print(\"Acesso Permitido\")\n",
        "else:\n",
        "    print(\"Usuário ou Senha Incorretos. Tente Novamente\")"
      ],
      "metadata": {
        "colab": {
          "base_uri": "https://localhost:8080/"
        },
        "id": "HbVj5eTV9IBM",
        "outputId": "d4c3cc87-0d01-4df7-eb52-c0024d0fccb7"
      },
      "execution_count": null,
      "outputs": [
        {
          "output_type": "stream",
          "name": "stdout",
          "text": [
            "Digite seu nome de usuário: cliente\n",
            "Digite sua senha: 1234\n",
            "Acesso Permitido\n"
          ]
        }
      ]
    },
    {
      "cell_type": "markdown",
      "source": [
        "exercicio 5"
      ],
      "metadata": {
        "id": "0_DnIxgc-ZZK"
      }
    },
    {
      "cell_type": "code",
      "source": [
        "usuario = \"cliente\"\n",
        "senha_usuario = \"1234\"\n",
        "\n",
        "nome_usuario = input(\"Digite seu nome de usuário: \")\n",
        "senha = input(\"Digite sua senha: \")\n",
        "\n",
        "if nome_usuario == usuario and senha == senha_usuario:\n",
        "    print(\"Acesso Permitido\")\n",
        "else:\n",
        "    print(\"Usuário ou Senha Incorretos. Tente Novamente\")\n",
        "\n",
        "limite = 3000\n",
        "saldo = -50.00\n",
        "\n",
        "print(\"Digite 1 para saque\")\n",
        "print(\"Digite 2 para depósitar\")\n",
        "print(\"Digite 3 para saldo\")\n",
        "opcao = int(input(\"Digite a opção desejada: \"))\n",
        "\n",
        "if opcao == 1:\n",
        "  valor_saque = float(input('Digite o valor que deseja sacar: '))\n",
        "  saldo = saldo + limite\n",
        "  saldo = saldo - valor_saque\n",
        "\n",
        "  if valor_saque <= saldo:\n",
        "\n",
        "    print('Seu saque foi autorizado')\n",
        "    print('Seu novo saldo é: ', saldo)\n",
        "\n",
        "  else:\n",
        "    print('Seu saque foi negado')\n",
        "\n",
        "elif opcao == 2:\n",
        "  valor_deposito = float(input('Digite o valor que deseja depositar: '))\n",
        "  saldo = saldo + valor_deposito\n",
        "\n",
        "  if saldo + valor_deposito:\n",
        "    print('Seu deposito foi autorizado')\n",
        "    print('Seu novo saldo é: ', saldo)\n",
        "\n",
        "elif opcao == 3:\n",
        "    print(\"Seu saldo é: \", saldo)"
      ],
      "metadata": {
        "colab": {
          "base_uri": "https://localhost:8080/"
        },
        "id": "w1CAUsEo-bNa",
        "outputId": "902def55-1f3a-4ea2-e079-fd0fc22f206f"
      },
      "execution_count": 11,
      "outputs": [
        {
          "output_type": "stream",
          "name": "stdout",
          "text": [
            "Digite seu nome de usuário: cliente\n",
            "Digite sua senha: 1234\n",
            "Acesso Permitido\n",
            "Digite 1 para saque\n",
            "Digite 2 para depósitar\n",
            "Digite 3 para saldo\n",
            "Digite a opção desejada: 3\n",
            "Seu saldo é:  -50.0\n"
          ]
        }
      ]
    },
    {
      "cell_type": "markdown",
      "source": [
        "Exercicio 6"
      ],
      "metadata": {
        "id": "7sycbbgdGtJ_"
      }
    },
    {
      "cell_type": "code",
      "source": [
        "altura = float(input(\"Digite sua altura: \"))\n",
        "idade = int(input(\"Digite sua idade: \"))\n",
        "\n",
        "if altura >= 1.75 and idade >= 18:\n",
        "  print(\"Pode competir\")\n",
        "else:\n",
        "  print(\"Não pode competir\")\n"
      ],
      "metadata": {
        "colab": {
          "base_uri": "https://localhost:8080/"
        },
        "id": "AsrXyNmWGuVg",
        "outputId": "2cd1024e-79cf-4557-cbb7-37383ad23f46"
      },
      "execution_count": null,
      "outputs": [
        {
          "output_type": "stream",
          "name": "stdout",
          "text": [
            "Digite sua altura: 1.90\n",
            "Digite sua idade: 40\n",
            "Pode competir? True\n"
          ]
        }
      ]
    },
    {
      "cell_type": "markdown",
      "source": [
        "Exercicio 7"
      ],
      "metadata": {
        "id": "3-z5Zur9GvTP"
      }
    },
    {
      "cell_type": "code",
      "source": [
        "peso = float(input(\"Digite seu peso: \"))\n",
        "\n",
        "if (peso > 90.72):\n",
        "  print('Você é da categoria pesado')\n",
        "elif (peso > 79.38) and (peso < 90.72):\n",
        "  print('Você é da categoria cruzador')\n",
        "elif (peso > 76.2) and (peso < 79.38):\n",
        "  print('Você é da categoria meio-pesado')\n",
        "elif (peso > 73.03) and (peso < 76.2):\n",
        "  print('Você é da categoria super médio')\n",
        "elif (peso > 69.85) and (peso < 73.03):\n",
        "  print('Você é da categoria médio')\n",
        "elif (peso > 66.68) and (peso <  69.85):\n",
        "  print('Você é da categoria super meio-médio')\n",
        "elif (peso > 63.5) and (peso < 66.68):\n",
        "  print('Você é da categoria super leve')\n",
        "elif (peso > 61.23) and (peso < 63.5):\n",
        "  print('Você é da categoria leve')\n",
        "elif (peso > 58.97) and (peso < 61.23):\n",
        "  print('Você é da categoria super pena')\n",
        "elif (peso > 57.15) and (peso < 58.97):\n",
        "  print('Você é da categoria pena')\n",
        "elif (peso > 55.34) and (peso < 57.15):\n",
        "  print('Você é da categoria super galo')\n",
        "elif (peso > 53.52) and (peso < 55.34):\n",
        "  print('Você é da categoria galo')\n",
        "elif (peso > 51.71) and (peso < 53.52):\n",
        "  print('Você é da categoria super mosca')\n",
        "elif (peso > 50.35) and (peso < 51.71):\n",
        "  print('Você é da categoria mosca')\n",
        "elif (peso > 48.99) and (peso < 50.35):\n",
        "  print('Você é da categoria mosca ligeiro')\n",
        "elif (peso > 47.63) and (peso < 48.99):\n",
        "  print('Você é da categoria palha')\n",
        "else:\n",
        "  print('Você é da categoria palha ligeiro')"
      ],
      "metadata": {
        "id": "7hO1lKn6IjpN",
        "colab": {
          "base_uri": "https://localhost:8080/"
        },
        "outputId": "d62f31dd-74e4-4d5b-cc6e-c2abf1cc0a3b"
      },
      "execution_count": 3,
      "outputs": [
        {
          "output_type": "stream",
          "name": "stdout",
          "text": [
            "Digite seu peso: 50.65\n",
            "Você é da categoria mosca\n"
          ]
        }
      ]
    },
    {
      "cell_type": "markdown",
      "source": [
        "Exercicio 8"
      ],
      "metadata": {
        "id": "9BwdPm6beI-J"
      }
    },
    {
      "cell_type": "code",
      "source": [
        "salario = float(input(\"Digite seu salario:  \"))\n",
        "\n",
        "if (salario <= 1903.98):\n",
        "  print('Não precisa pagar imposto')\n",
        "elif (salario >= 1903.99) or (2826.65 <= salario ):\n",
        "  imposto = salario * 0.075\n",
        "  print(f\"Você tem que pagar de imposto {imposto:.2f}\")\n",
        "elif (salario >= 2826.66) or (3751.05 <= salario ):\n",
        "  imposto = salario * 0.15\n",
        "  print(f\"Você tem que pagar de imposto {imposto:.2f}\")\n",
        "elif (salario >= 3751.06) or (4664.68 <= salario ):\n",
        "  imposto = salario * 0.225\n",
        "  print(f\"Você tem que pagar de imposto {imposto:.2f}\")\n",
        "else:\n",
        "  imposto = salario * 0.275\n",
        "  print(f\"Você tem que pagar de imposto {imposto:.2f}\")"
      ],
      "metadata": {
        "colab": {
          "base_uri": "https://localhost:8080/"
        },
        "id": "quRIv37UeLpR",
        "outputId": "3635146f-5626-4af1-c41b-8f80f327110e"
      },
      "execution_count": 12,
      "outputs": [
        {
          "output_type": "stream",
          "name": "stdout",
          "text": [
            "Digite seu salario:  2500\n",
            "Você tem que pagar de imposto 187.50\n"
          ]
        }
      ]
    },
    {
      "cell_type": "markdown",
      "source": [
        "Exercicio 9"
      ],
      "metadata": {
        "id": "ftDLrd9Gd1zq"
      }
    },
    {
      "cell_type": "code",
      "source": [
        "salario = float(input(\"Digite seu salario:  \"))\n",
        "\n",
        "if (salario <= 1500):\n",
        "  aumento = salario*0.2\n",
        "  novosalario = salario + aumento\n",
        "  print(f'Terá um aumento de R${aumento} e seu novo salario será de {novosalario}')\n",
        "elif (salario > 1500) and (salario <= 3000):\n",
        "  aumento = salario*0.15\n",
        "  novosalario = salario + aumento\n",
        "  print(f'Terá um aumento de R${aumento} e seu novo salario será de {novosalario}')\n",
        "else:\n",
        "  aumento = salario*0.1\n",
        "  novosalario = salario + aumento\n",
        "  print(f'Terá um aumento de R${aumento} e seu novo salario será de {novosalario}')"
      ],
      "metadata": {
        "colab": {
          "base_uri": "https://localhost:8080/"
        },
        "id": "HaWnbNEod7c7",
        "outputId": "f593704a-176c-4850-8ce7-47b0b5871fa4"
      },
      "execution_count": 1,
      "outputs": [
        {
          "output_type": "stream",
          "name": "stdout",
          "text": [
            "Digite seu salario:  2300\n",
            "Terá um aumento de R$345.0 e seu novo salario será de 2645.0\n"
          ]
        }
      ]
    },
    {
      "cell_type": "markdown",
      "source": [
        "Exercicio 10"
      ],
      "metadata": {
        "id": "6eklq8WzeSWO"
      }
    },
    {
      "cell_type": "code",
      "source": [
        "peso = float(input(\"Informe o peso do pacote (em kg): \"))\n",
        "distancia = float(input(\"Informe a distância (em km): \"))\n",
        "\n",
        "if peso <= 2:\n",
        "    valorkm = 5\n",
        "elif (peso > 2) or (peso <= 5):\n",
        "    valorkm = 8\n",
        "else:\n",
        "    valorkm = 10\n",
        "\n",
        "frete = (distancia / 100) * valorkm\n",
        "\n",
        "print(f\"Para um pacote de {peso}kg viajando {distancia}km, o valor do frete será R${frete:.2f}\")"
      ],
      "metadata": {
        "colab": {
          "base_uri": "https://localhost:8080/"
        },
        "id": "khT6aS7VeUhg",
        "outputId": "e79c039f-1765-4b52-dde9-73d156320b9f"
      },
      "execution_count": 16,
      "outputs": [
        {
          "output_type": "stream",
          "name": "stdout",
          "text": [
            "Informe o peso do pacote (em kg): 76\n",
            "Informe a distância (em km): 5\n",
            "Para um pacote de 76.0kg viajando 5.0km, o valor do frete será R$0.40\n"
          ]
        }
      ]
    }
  ]
}